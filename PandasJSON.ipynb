{
 "cells": [
  {
   "cell_type": "code",
   "execution_count": 1,
   "metadata": {},
   "outputs": [],
   "source": [
    "import pandas as pd"
   ]
  },
  {
   "attachments": {},
   "cell_type": "markdown",
   "metadata": {},
   "source": [
    "### 查看pandasJSON\n",
    "JSON是存储和交换文本信息的语法，类似XML\n",
    "[</br>\n",
    "   {</br>\n",
    "   \"id\": \"A001\",</br>\n",
    "   \"name\": \"菜鸟教程\",</br>\n",
    "   \"url\": \"www.runoob.com\",</br>\n",
    "   \"likes\": 61</br>\n",
    "   },</br>\n",
    "   {</br>\n",
    "   \"id\": \"A002\",</br>\n",
    "   \"name\": \"Google\",</br>\n",
    "   \"url\": \"www.google.com\",</br>\n",
    "   \"likes\": 124</br>\n",
    "   },</br>\n",
    "   {</br>\n",
    "   \"id\": \"A003\",</br>\n",
    "   \"name\": \"淘宝\",</br>\n",
    "   \"url\": \"www.taobao.com\",</br>\n",
    "   \"likes\": 45</br>\n",
    "   }</br>\n",
    "]"
   ]
  },
  {
   "cell_type": "code",
   "execution_count": 2,
   "metadata": {},
   "outputs": [
    {
     "name": "stdout",
     "output_type": "stream",
     "text": [
      "     id    name             url  likes\n",
      "0  A001    菜鸟教程  www.runoob.com     61\n",
      "1  A002  Google  www.google.com    124\n",
      "2  A003      淘宝  www.taobao.com     45\n"
     ]
    }
   ],
   "source": [
    "df = pd.read_json('sites.json')\n",
    "print(df.to_string())"
   ]
  },
  {
   "attachments": {},
   "cell_type": "markdown",
   "metadata": {},
   "source": [
    "to_string()用于返回DataFrame类型的数据，也可以用于直接处理JSON字符串</br>"
   ]
  },
  {
   "cell_type": "code",
   "execution_count": 3,
   "metadata": {},
   "outputs": [
    {
     "name": "stdout",
     "output_type": "stream",
     "text": [
      "     id    name             url  likes\n",
      "0  A001    菜鸟教程  www.runoob.com     61\n",
      "1  A002  Google  www.google.com    124\n",
      "2  A003      淘宝  www.taobao.com     45\n"
     ]
    }
   ],
   "source": [
    "data = [\n",
    "    {\n",
    "    \"id\": \"A001\",\n",
    "    \"name\": \"菜鸟教程\",\n",
    "    \"url\": \"www.runoob.com\",\n",
    "    \"likes\": 61\n",
    "    },\n",
    "    {\n",
    "    \"id\": \"A002\",\n",
    "    \"name\": \"Google\",\n",
    "    \"url\": \"www.google.com\",\n",
    "    \"likes\": 124\n",
    "    },\n",
    "    {\n",
    "    \"id\": \"A003\",\n",
    "    \"name\": \"淘宝\",\n",
    "    \"url\": \"www.taobao.com\",\n",
    "    \"likes\": 45\n",
    "    }\n",
    "]\n",
    "df = pd.DataFrame(data)\n",
    "print(df)"
   ]
  },
  {
   "attachments": {},
   "cell_type": "markdown",
   "metadata": {},
   "source": [
    "JSON对象和Python有相同的格式，所以我们可以将Python字典转换为DataFrame数据"
   ]
  },
  {
   "cell_type": "code",
   "execution_count": 4,
   "metadata": {},
   "outputs": [
    {
     "name": "stdout",
     "output_type": "stream",
     "text": [
      "      col1 col2\n",
      "row1     1    x\n",
      "row2     2    y\n",
      "row3     3    z\n"
     ]
    }
   ],
   "source": [
    "s = {\n",
    "    \"col1\":{\"row1\":1, \"row2\":2, \"row3\":3},\n",
    "    \"col2\":{\"row1\":\"x\", \"row2\":\"y\", \"row3\":\"z\"}\n",
    "}\n",
    "df = pd.DataFrame(s)\n",
    "print(df)"
   ]
  },
  {
   "attachments": {},
   "cell_type": "markdown",
   "metadata": {},
   "source": [
    "从URL中读取JSON数据"
   ]
  },
  {
   "cell_type": "code",
   "execution_count": 5,
   "metadata": {},
   "outputs": [
    {
     "name": "stdout",
     "output_type": "stream",
     "text": [
      "     id    name             url  likes\n",
      "0  A001    菜鸟教程  www.runoob.com     61\n",
      "1  A002  Google  www.google.com    124\n",
      "2  A003      淘宝  www.taobao.com     45\n"
     ]
    }
   ],
   "source": [
    "URL = 'https://static.runoob.com/download/sites.json'\n",
    "df = pd.read_json(URL)\n",
    "print(df)"
   ]
  },
  {
   "attachments": {},
   "cell_type": "markdown",
   "metadata": {},
   "source": [
    "### 内嵌的JSON数据"
   ]
  },
  {
   "cell_type": "code",
   "execution_count": 6,
   "metadata": {},
   "outputs": [
    {
     "name": "stdout",
     "output_type": "stream",
     "text": [
      "          school_name   class  \\\n",
      "0  ABC primary school  Year 1   \n",
      "1  ABC primary school  Year 1   \n",
      "2  ABC primary school  Year 1   \n",
      "\n",
      "                                            students  \n",
      "0  {'id': 'A001', 'name': 'Tom', 'math': 60, 'phy...  \n",
      "1  {'id': 'A002', 'name': 'James', 'math': 89, 'p...  \n",
      "2  {'id': 'A003', 'name': 'Jenny', 'math': 79, 'p...  \n"
     ]
    }
   ],
   "source": [
    "df = pd.read_json('nested_list.json')\n",
    "print(df)"
   ]
  },
  {
   "attachments": {},
   "cell_type": "markdown",
   "metadata": {},
   "source": [
    "用json_normalize()方法将内嵌的数据完整解析出来"
   ]
  },
  {
   "cell_type": "code",
   "execution_count": 7,
   "metadata": {},
   "outputs": [
    {
     "name": "stdout",
     "output_type": "stream",
     "text": [
      "     id   name  math  physics  chemistry\n",
      "0  A001    Tom    60       66         61\n",
      "1  A002  James    89       76         51\n",
      "2  A003  Jenny    79       90         78\n"
     ]
    }
   ],
   "source": [
    "import json\n",
    "with open('nested_list.json', 'r') as f:\n",
    "    data = json.loads(f.read())\n",
    "\n",
    "#展开数据\n",
    "df_nested_list = pd.json_normalize(data, record_path=['students'])\n",
    "print(df_nested_list)"
   ]
  },
  {
   "attachments": {},
   "cell_type": "markdown",
   "metadata": {},
   "source": [
    "其他元素也可以用meta在显示"
   ]
  },
  {
   "cell_type": "code",
   "execution_count": 8,
   "metadata": {},
   "outputs": [
    {
     "name": "stdout",
     "output_type": "stream",
     "text": [
      "     id   name  math  physics  chemistry         school_name   class\n",
      "0  A001    Tom    60       66         61  ABC primary school  Year 1\n",
      "1  A002  James    89       76         51  ABC primary school  Year 1\n",
      "2  A003  Jenny    79       90         78  ABC primary school  Year 1\n"
     ]
    }
   ],
   "source": [
    "df_nested_list = pd.json_normalize(data, \n",
    "                                   record_path=['students'], \n",
    "                                   meta=['school_name', 'class'])\n",
    "print(df_nested_list)"
   ]
  },
  {
   "attachments": {},
   "cell_type": "markdown",
   "metadata": {},
   "source": [
    "嵌套了列表和字典的json"
   ]
  },
  {
   "cell_type": "code",
   "execution_count": 9,
   "metadata": {},
   "outputs": [
    {
     "name": "stdout",
     "output_type": "stream",
     "text": [
      "     id   name  math  physics  chemistry   class info.president  \\\n",
      "0  A001    Tom    60       66         61  Year 1    John Kasich   \n",
      "1  A002  James    89       76         51  Year 1    John Kasich   \n",
      "2  A003  Jenny    79       90         78  Year 1    John Kasich   \n",
      "\n",
      "  info.contacts.tel  \n",
      "0         123456789  \n",
      "1         123456789  \n",
      "2         123456789  \n"
     ]
    }
   ],
   "source": [
    "with open('nested_mix.json', 'r') as f:\n",
    "    data = json.loads(f.read())\n",
    "\n",
    "df = pd.json_normalize(\n",
    "    data,\n",
    "    record_path=['students'],\n",
    "    meta=[\n",
    "        'class',\n",
    "        ['info', 'president'],\n",
    "        ['info', 'contacts', 'tel']\n",
    "    ]\n",
    ")\n",
    "\n",
    "print(df)"
   ]
  },
  {
   "attachments": {},
   "cell_type": "markdown",
   "metadata": {},
   "source": [
    "只读内嵌的math字段"
   ]
  },
  {
   "cell_type": "code",
   "execution_count": 11,
   "metadata": {},
   "outputs": [
    {
     "name": "stdout",
     "output_type": "stream",
     "text": [
      "0    60\n",
      "1    89\n",
      "2    79\n",
      "Name: students, dtype: int64\n"
     ]
    }
   ],
   "source": [
    "from glom import glom\n",
    "df = pd.read_json('nested_deep.json')\n",
    "data = df['students'].apply(lambda row: glom(row, 'grade.math'))\n",
    "print(data)"
   ]
  }
 ],
 "metadata": {
  "kernelspec": {
   "display_name": "Python 3",
   "language": "python",
   "name": "python3"
  },
  "language_info": {
   "codemirror_mode": {
    "name": "ipython",
    "version": 3
   },
   "file_extension": ".py",
   "mimetype": "text/x-python",
   "name": "python",
   "nbconvert_exporter": "python",
   "pygments_lexer": "ipython3",
   "version": "3.8.5"
  },
  "orig_nbformat": 4
 },
 "nbformat": 4,
 "nbformat_minor": 2
}
